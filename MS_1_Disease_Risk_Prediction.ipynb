{
  "nbformat": 4,
  "nbformat_minor": 0,
  "metadata": {
    "colab": {
      "provenance": [],
      "authorship_tag": "ABX9TyPht9059asDUKn9cawndDpZ",
      "include_colab_link": true
    },
    "kernelspec": {
      "name": "python3",
      "display_name": "Python 3"
    },
    "language_info": {
      "name": "python"
    }
  },
  "cells": [
    {
      "cell_type": "markdown",
      "metadata": {
        "id": "view-in-github",
        "colab_type": "text"
      },
      "source": [
        "<a href=\"https://colab.research.google.com/github/Ash100/Environment/blob/main/MS_1_Disease_Risk_Prediction.ipynb\" target=\"_parent\"><img src=\"https://colab.research.google.com/assets/colab-badge.svg\" alt=\"Open In Colab\"/></a>"
      ]
    },
    {
      "cell_type": "markdown",
      "source": [
        "This notebook is managed by **Dr. Ashfaq Ahmad** and it works on the dataset of diabetis risk prediction. This notebook is crafted for the research work of Master student, **Mr. Muhammad Musharaf**."
      ],
      "metadata": {
        "id": "jv-aJIwxb5NG"
      }
    },
    {
      "cell_type": "code",
      "source": [
        "import numpy as np\n",
        "import pandas as pd\n",
        "import matplotlib.pyplot as plt\n",
        "import seaborn as sns\n",
        "from sklearn.preprocessing import StandardScaler\n",
        "from sklearn.preprocessing import LabelEncoder\n",
        "from sklearn.model_selection import train_test_split\n",
        "from sklearn.metrics import confusion_matrix"
      ],
      "metadata": {
        "id": "z2ARAueRb3lY"
      },
      "execution_count": 1,
      "outputs": []
    },
    {
      "cell_type": "code",
      "source": [
        "from google.colab import files\n",
        "import pandas as pd\n",
        "\n",
        "# Upload the file\n",
        "uploaded = files.upload()\n",
        "\n",
        "# Load the file into a DataFrame\n",
        "for file_name in uploaded.keys():\n",
        "    my_data = pd.read_csv(file_name)\n",
        "    print(f'File {file_name} successfully loaded into my_data.')\n",
        "\n",
        "# Display the first few rows\n",
        "my_data.head()"
      ],
      "metadata": {
        "id": "s451iPdlb4QB"
      },
      "execution_count": null,
      "outputs": []
    },
    {
      "cell_type": "markdown",
      "source": [
        "Below we are going to change the values into Numerical values. Like **Yes** to **1** and **No** to **0**"
      ],
      "metadata": {
        "id": "I2oY5nJGmNy2"
      }
    },
    {
      "cell_type": "code",
      "source": [
        "Lbl=LabelEncoder()\n",
        "my_data[\"sudden weight loss\"]=Lbl.fit_transform(my_data[\"sudden weight loss\"])\n",
        "my_data[\"Genital thrush\"]=Lbl.fit_transform(my_data[\"Genital thrush\"])\n",
        "my_data[\"visual blurring\"]=Lbl.fit_transform(my_data[\"visual blurring\"])\n",
        "my_data[\"delayed healing\"]=Lbl.fit_transform(my_data[\"delayed healing\"])\n",
        "my_data[\"partial paresis\"]=Lbl.fit_transform(my_data[\"partial paresis\"])\n",
        "my_data[\"muscle stiffness\"]=Lbl.fit_transform(my_data[\"muscle stiffness\"])\n",
        "my_data.Gender=Lbl.fit_transform(my_data.Gender)\n",
        "my_data.Polyuria=Lbl.fit_transform(my_data.Polyuria)\n",
        "my_data.Polydipsia=Lbl.fit_transform(my_data.Polydipsia)\n",
        "my_data.weakness=Lbl.fit_transform(my_data.weakness)\n",
        "my_data.Itching=Lbl.fit_transform(my_data.Itching)\n",
        "my_data.Irritability=Lbl.fit_transform(my_data.Irritability)\n",
        "my_data.Alopecia=Lbl.fit_transform(my_data.Alopecia)\n",
        "my_data.Obesity=Lbl.fit_transform(my_data.Obesity)\n",
        "my_data.Polyphagia=Lbl.fit_transform(my_data.Polyphagia)\n",
        "my_data"
      ],
      "metadata": {
        "id": "XThxdlofb5tp"
      },
      "execution_count": null,
      "outputs": []
    },
    {
      "cell_type": "markdown",
      "source": [
        "# Data Distribution\n",
        "Below we are going to access how many variables are in the data. Apart, we are also going to analyze the participation of different conditions in the dataset."
      ],
      "metadata": {
        "id": "Bgci_6lAiQ48"
      }
    },
    {
      "cell_type": "code",
      "source": [
        "#@title run this cell\n",
        "import matplotlib.pyplot as plt\n",
        "\n",
        "# Set the style to default for white background\n",
        "plt.style.use('default')\n",
        "\n",
        "# Create a figure and axes for the histogram\n",
        "fig, axes = plt.subplots(figsize=(15, 10))\n",
        "\n",
        "# Plot the histogram with colored bars\n",
        "my_data.hist(ax=axes, bins=50, color='blue')\n",
        "\n",
        "# Save the plot as an image file\n",
        "plt.savefig('data_distribution.png', dpi=600, bbox_inches='tight')\n",
        "\n",
        "# Display the plot\n",
        "plt.show()\n"
      ],
      "metadata": {
        "cellView": "form",
        "id": "ozSmAlc7he1q"
      },
      "execution_count": null,
      "outputs": []
    },
    {
      "cell_type": "code",
      "source": [
        "my_data.columns\n",
        "col = [\"Age\",'Gender', 'Polyuria', 'Polydipsia', 'sudden weight loss',\n",
        "       'weakness', 'Polyphagia', 'Genital thrush', 'visual blurring',\n",
        "       'Itching', 'Irritability', 'delayed healing', 'partial paresis',\n",
        "       'muscle stiffness', 'Alopecia', 'Obesity']"
      ],
      "metadata": {
        "id": "1_Z-2ZBHdZZe"
      },
      "execution_count": 22,
      "outputs": []
    },
    {
      "cell_type": "code",
      "source": [
        "import matplotlib.pyplot as plt\n",
        "import seaborn as sns\n",
        "\n",
        "# Loop through columns and create count plots\n",
        "for i in my_data.columns:  # Assuming 'col' refers to my_data.columns\n",
        "    plt.figure(figsize=(15, 6))\n",
        "    sns.countplot(data=my_data, x=i, hue='class', palette=\"pastel\")\n",
        "    plt.title(f'{i} vs Class')\n",
        "\n",
        "    # Save each plot with a unique filename\n",
        "    plt.savefig(f'{i}_vs_class.png', dpi=600, bbox_inches='tight')\n",
        "\n",
        "    plt.tight_layout()\n",
        "    plt.show()\n"
      ],
      "metadata": {
        "id": "49Qv5e-Vnz4R"
      },
      "execution_count": null,
      "outputs": []
    },
    {
      "cell_type": "markdown",
      "source": [
        "To generate a master figure where all comes into one main figure"
      ],
      "metadata": {
        "id": "b8Cstc0Kp30C"
      }
    },
    {
      "cell_type": "code",
      "source": [
        "#@title a biplot\n",
        "import matplotlib.pyplot as plt\n",
        "import seaborn as sns\n",
        "import math\n",
        "\n",
        "# Number of columns in your data\n",
        "num_columns = len(my_data.columns)\n",
        "\n",
        "# Calculate number of rows and columns for the grid\n",
        "ncols = 3  # Adjust number of columns as needed\n",
        "nrows = math.ceil(num_columns / ncols)  # Number of rows based on the number of columns\n",
        "\n",
        "# Create a large figure to hold all subplots\n",
        "fig, axes = plt.subplots(nrows=nrows, ncols=ncols, figsize=(15, 5 * nrows))\n",
        "\n",
        "# Flatten the axes array for easier iteration\n",
        "axes = axes.flatten()\n",
        "\n",
        "# Loop through each column and plot the count plots\n",
        "for idx, i in enumerate(my_data.columns):\n",
        "    sns.countplot(data=my_data, x=i, hue='class', palette=\"pastel\", ax=axes[idx])\n",
        "    axes[idx].set_title(f'{i} vs Class')\n",
        "\n",
        "# Remove any unused axes (in case your grid is not perfectly filled)\n",
        "for j in range(idx + 1, len(axes)):\n",
        "    fig.delaxes(axes[j])\n",
        "\n",
        "# Adjust layout and save the final figure\n",
        "plt.tight_layout()\n",
        "plt.savefig('all_plots_in_one.png', dpi=300, bbox_inches='tight')\n",
        "plt.show()\n"
      ],
      "metadata": {
        "id": "Eo0zzX5yod_H"
      },
      "execution_count": null,
      "outputs": []
    },
    {
      "cell_type": "code",
      "source": [
        "import matplotlib.pyplot as plt\n",
        "import seaborn as sns\n",
        "\n",
        "# Adjust figure size for all subplots to fit in\n",
        "plt.figure(figsize=(30, 12))\n",
        "\n",
        "# Loop through each column and plot the histograms\n",
        "for i in col:\n",
        "    plt.subplot(1, len(col), col.index(i) + 1)  # Place each plot in a grid\n",
        "    sns.histplot(data=my_data, x=i, hue='class', palette=\"pastel\", multiple=\"stack\")\n",
        "    plt.title(f'{i} vs Class')\n",
        "\n",
        "# Adjust layout for better spacing\n",
        "plt.tight_layout()\n",
        "\n",
        "# Save the figure with 600 dpi\n",
        "plt.savefig('combined_histograms_600dpi.png', dpi=600, bbox_inches='tight')\n",
        "\n",
        "# Display the combined plot\n",
        "plt.show()\n"
      ],
      "metadata": {
        "id": "rbIbmS4bqLaN"
      },
      "execution_count": null,
      "outputs": []
    },
    {
      "cell_type": "markdown",
      "source": [
        "So far you might understand that we are using a **Class** of Postive and Negative. Now we are going to seperate the **Class** from the features, and then use RandomForest Model for training and testing."
      ],
      "metadata": {
        "id": "W4XWI4xEs00D"
      }
    },
    {
      "cell_type": "code",
      "source": [
        "X=my_data.drop([\"class\"],axis=1)\n",
        "X"
      ],
      "metadata": {
        "id": "JKxQ1X8fd7mk"
      },
      "execution_count": null,
      "outputs": []
    },
    {
      "cell_type": "code",
      "source": [
        "y=my_data[\"class\"]\n",
        "y=pd.DataFrame(y)\n",
        "y"
      ],
      "metadata": {
        "id": "iulWWNtrd_Vg"
      },
      "execution_count": null,
      "outputs": []
    },
    {
      "cell_type": "code",
      "source": [
        "scaler = StandardScaler(copy=True, with_mean=True, with_std=True)\n",
        "X= scaler.fit_transform(X)\n",
        "X"
      ],
      "metadata": {
        "id": "VR3CyTI9eFrt"
      },
      "execution_count": null,
      "outputs": []
    },
    {
      "cell_type": "code",
      "source": [
        "X_train, X_test, y_train, y_test = train_test_split(X, y, test_size=0.32, random_state=42, shuffle =True)"
      ],
      "metadata": {
        "id": "d0pJSPDUzbE6"
      },
      "execution_count": null,
      "outputs": []
    },
    {
      "cell_type": "code",
      "source": [
        "import pandas as pd\n",
        "from sklearn.ensemble import RandomForestClassifier\n",
        "from sklearn.metrics import confusion_matrix, classification_report, accuracy_score\n",
        "import seaborn as sns\n",
        "import matplotlib.pyplot as plt\n",
        "\n",
        "# Example data loading\n",
        "# my_data = pd.read_csv(\"your_data.csv\")\n",
        "\n",
        "# Separate features (X) and target (y)\n",
        "X_train = my_data.drop(columns='class')  # Replace 'class' with your actual target column name\n",
        "y_train = my_data['class']  # Target column\n",
        "\n",
        "# Check the shape of X_train to ensure it has 16 features\n",
        "print(\"Shape of X_train:\", X_train.shape)  # Should print (520, 16)\n",
        "\n",
        "# Ensure no missing values\n",
        "print(X_train.isnull().sum())  # Should print 0 for each column if there are no missing values\n",
        "\n",
        "# Real feature names\n",
        "real_feature_names = ['Age','Gender', 'Polyuria', 'Polydipsia', 'sudden weight loss',\n",
        "              'weakness', 'Polyphagia', 'Genital thrush', 'visual blurring',\n",
        "              'Itching', 'Irritability', 'delayed healing', 'partial paresis',\n",
        "              'muscle stiffness', 'Alopecia', 'Obesity']\n",
        "\n",
        "# Convert X_train to DataFrame with correct feature names\n",
        "X_train = pd.DataFrame(X_train, columns=real_feature_names)\n",
        "\n",
        "# Now you can train the model\n",
        "RandomForestClassifierModel = RandomForestClassifier(criterion='gini', n_estimators=80, random_state=33)\n",
        "RandomForestClassifierModel.fit(X_train, y_train)\n",
        "\n",
        "# Display feature importances with the correct feature names\n",
        "print('RandomForestClassifierModel feature importances are:')\n",
        "for feature, importance in zip(X_train.columns, RandomForestClassifierModel.feature_importances_):\n",
        "    print(f'{feature}: {importance:.4f}')\n",
        "\n",
        "# Making Predictions\n",
        "y_pred = RandomForestClassifierModel.predict(X_test)\n",
        "y_pred_prob = RandomForestClassifierModel.predict_proba(X_test)\n",
        "\n",
        "print('Predicted Values for RandomForestClassifierModel are:', y_pred)\n",
        "print('Prediction Probabilities for RandomForestClassifierModel are:', y_pred_prob)\n",
        "\n",
        "# Classification Report\n",
        "print('Classification Report:')\n",
        "print(classification_report(y_test, y_pred))\n",
        "\n",
        "# Confusion Matrix Calculation\n",
        "CM = confusion_matrix(y_test, y_pred)\n",
        "print('Confusion Matrix is:\\n', CM)\n",
        "\n",
        "# Drawing Confusion Matrix as Heatmap\n",
        "plt.figure(figsize=(8, 6))\n",
        "sns.heatmap(CM, annot=True, fmt='d', cmap='Blues', cbar=False, xticklabels=['Class 0', 'Class 1'], yticklabels=['Class 0', 'Class 1'])\n",
        "plt.title('Confusion Matrix')\n",
        "plt.xlabel('Predicted')\n",
        "plt.ylabel('True')\n",
        "plt.show()\n",
        "\n",
        "# Accuracy Score\n",
        "accuracy = accuracy_score(y_test, y_pred)\n",
        "print(\"Accuracy:\", accuracy)\n",
        "\n",
        "# Feature Importance Plot (Visualizing the importance of features)\n",
        "plt.figure(figsize=(10, 6))\n",
        "sns.barplot(x=RandomForestClassifierModel.feature_importances_, y=X_train.columns)\n",
        "plt.title('Feature Importance in RandomForestClassifier')\n",
        "plt.xlabel('Importance')\n",
        "plt.ylabel('Features')\n",
        "\n",
        "# Save the plot with 600 DPI\n",
        "plt.savefig('feature_importance_plot.png', dpi=600)\n",
        "\n",
        "# Show the plot\n",
        "plt.show()\n",
        "\n"
      ],
      "metadata": {
        "id": "m53sUM3kxX95"
      },
      "execution_count": null,
      "outputs": []
    }
  ]
}